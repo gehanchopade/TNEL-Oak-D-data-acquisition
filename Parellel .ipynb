{
 "cells": [
  {
   "cell_type": "code",
   "execution_count": 2,
   "id": "465d3ffb",
   "metadata": {},
   "outputs": [],
   "source": [
    "import numpy as np\n",
    "import time\n",
    "import matplotlib.pyplot as plt\n",
    "import cv2\n",
    "import depthai as dai\n",
    "import os"
   ]
  },
  {
   "cell_type": "code",
   "execution_count": 56,
   "id": "304b0fab",
   "metadata": {},
   "outputs": [],
   "source": [
    "FDIR='./data'\n",
    "def getPipeLine(streamName):\n",
    "    pipeline = dai.Pipeline()\n",
    "\n",
    "    # Define sources and outputs\n",
    "    camRgb = pipeline.create(dai.node.ColorCamera)\n",
    "    monoLeft = pipeline.create(dai.node.MonoCamera)\n",
    "    monoRight = pipeline.create(dai.node.MonoCamera)\n",
    "    ve1 = pipeline.create(dai.node.VideoEncoder)\n",
    "    ve2 = pipeline.create(dai.node.VideoEncoder)\n",
    "    ve3 = pipeline.create(dai.node.VideoEncoder)\n",
    "\n",
    "    ve1Out = pipeline.create(dai.node.XLinkOut)\n",
    "    ve2Out = pipeline.create(dai.node.XLinkOut)\n",
    "    ve3Out = pipeline.create(dai.node.XLinkOut)\n",
    "\n",
    "    ve1Out.setStreamName(streamName[0])\n",
    "    ve2Out.setStreamName(streamName[1])\n",
    "    ve3Out.setStreamName(streamName[2])\n",
    "\n",
    "    # Properties\n",
    "    camRgb.setBoardSocket(dai.CameraBoardSocket.RGB)\n",
    "    monoLeft.setBoardSocket(dai.CameraBoardSocket.LEFT)\n",
    "    monoRight.setBoardSocket(dai.CameraBoardSocket.RIGHT)\n",
    "    # Create encoders, one for each camera, consuming the frames and encoding them using H.264 / H.265 encoding\n",
    "    ve1.setDefaultProfilePreset(30, dai.VideoEncoderProperties.Profile.H264_HIGH)\n",
    "    ve2.setDefaultProfilePreset(30, dai.VideoEncoderProperties.Profile.H264_HIGH)\n",
    "    ve3.setDefaultProfilePreset(30, dai.VideoEncoderProperties.Profile.H264_HIGH)\n",
    "\n",
    "    # Linking\n",
    "    monoLeft.out.link(ve1.input)\n",
    "    camRgb.video.link(ve2.input)\n",
    "    monoRight.out.link(ve3.input)\n",
    "    ve1.bitstream.link(ve1Out.input)\n",
    "    ve2.bitstream.link(ve2Out.input)\n",
    "    ve3.bitstream.link(ve3Out.input)\n",
    "    return pipeline\n",
    "@ray.remote\n",
    "def recordCam(mxID,path,streamName,camName,time_limit):\n",
    "    pipeline=getPipeLine(streamName)\n",
    "    isDev1,deviceInfo=dai.Device.getDeviceByMxId(mxID)\n",
    "    with dai.Device(pipeline,deviceInfo) as dev:\n",
    "\n",
    "        # Output queues will be used to get the encoded data from the outputs defined above\n",
    "        outQ1 = dev.getOutputQueue(name=streamName[0], maxSize=30, blocking=False)\n",
    "        outQ2 = dev.getOutputQueue(name=streamName[1], maxSize=30, blocking=False)\n",
    "        outQ3 = dev.getOutputQueue(name=streamName[2], maxSize=30, blocking=False)\n",
    "        os.mkdir(path+'/'+camName)\n",
    "        os.mkdir(path+'/'+camName+'/videos/')\n",
    "        os.mkdir(path+'/'+camName+'/frames/')\n",
    "        name=path+'/'+camName+'/videos/record'\n",
    "        f_mono1=name+'_mono1.h264'\n",
    "        f_mono2=name+'_mono2.h264'\n",
    "        f_color=name+'_color.h264'\n",
    "        start=time.time()\n",
    "        print(\"RECORDING for\"+ camName + \" started at \"+str(int(time.time())) + \" seconds.\")\n",
    "        with open(f_mono1, 'wb') as fileMono1H264, open(f_color, 'wb') as fileColorH265, open(f_mono2, 'wb') as fileMono2H264:\n",
    "#             print(\"Press Ctrl+C or interrupt kernel to stop encoding...\")\n",
    "            \n",
    "            while (time.time()-start<time_limit+2):\n",
    "#                 print(time.time()-start)\n",
    "                try:\n",
    "                    # Empty each queue\n",
    "                    while outQ1.has():\n",
    "#                         print(\"11\"+str(outQ1.has()))\n",
    "                        outQ1.get().getData().tofile(fileMono1H264)\n",
    "\n",
    "                    while outQ2.has():\n",
    "#                         print(\"21\"+str(outQ2.has()))\n",
    "                        outQ2.get().getData().tofile(fileColorH265)\n",
    "\n",
    "                    while outQ3.has():\n",
    "#                         print(\"31\"+str(outQ3.has()))\n",
    "                        outQ3.get().getData().tofile(fileMono2H264)\n",
    "    \n",
    "                except KeyboardInterrupt:\n",
    "                    # Keyboard interrupt (Ctrl + C) detected\n",
    "                    break\n",
    "        print(\"Converting to mp4...\")\n",
    "        cmd = \"ffmpeg -framerate 30 -i {} -c copy {}\"\n",
    "\n",
    "        os.system(cmd.format(f_mono1,name+'_mono1.mp4'))\n",
    "        os.system(cmd.format(f_mono2, name+'_mono2.mp4'))\n",
    "        os.system(cmd.format(f_color, name+\"_color.mp4\"))\n",
    "        time.sleep(5)\n",
    "        print(\"Conversion complete. Removing temporary files\")\n",
    "\n",
    "        os.remove(f_mono1)\n",
    "        os.remove(f_mono2)\n",
    "        os.remove(f_color)\n",
    "        \n",
    "        print(\"RECORDING for \"+ camName + \" ended at \"+str(int(time.time())) + \" seconds.\")"
   ]
  },
  {
   "cell_type": "code",
   "execution_count": 57,
   "id": "5ffdc208",
   "metadata": {},
   "outputs": [
    {
     "name": "stdout",
     "output_type": "stream",
     "text": [
      "True True\n"
     ]
    }
   ],
   "source": [
    "streamName1=['ve1Out','ve2Out','ve3Out']\n",
    "streamName2=['ve1Out1','ve2Out1','ve3Out1']\n",
    "mxID1=\"14442C10913365D300\"\n",
    "mxID2=\"14442C10810665D300\"\n",
    "pipeline1=getPipeLine(streamName1)\n",
    "pipeline2=getPipeLine(streamName2)\n",
    "isDev1,dev1Info=dai.Device.getDeviceByMxId(\"14442C10913365D300\")\n",
    "isDev2,dev2Info=dai.Device.getDeviceByMxId(\"14442C10810665D300\")\n",
    "print(isDev1,isDev2)"
   ]
  },
  {
   "cell_type": "code",
   "execution_count": 58,
   "id": "12fc7253",
   "metadata": {},
   "outputs": [],
   "source": [
    "def recordCam1():\n",
    "    print(\"RECORDING started at \"+str(int(time.time())) + \" seconds.\")\n",
    "    recordCam('14442C10913365D300',dev1Info,pipeline1,streamName1,'cam1',10)\n",
    "def recordCam2():\n",
    "    print(\"RECORDING started at \"+str(int(time.time())) + \" seconds.\")\n",
    "    recordCam('14442C10810665D300',dev2Info,pipeline2,streamName2,'cam2',10)"
   ]
  },
  {
   "cell_type": "code",
   "execution_count": 59,
   "id": "b52bb021",
   "metadata": {},
   "outputs": [],
   "source": [
    "from multiprocessing import Process\n",
    "from threading import Thread\n"
   ]
  },
  {
   "cell_type": "code",
   "execution_count": 60,
   "id": "30d7897d",
   "metadata": {},
   "outputs": [],
   "source": [
    "# def run_records_in_parallel(funcs):\n",
    "#     running_funcs=[Process(target=func) for func in funcs]\n",
    "#     for running_func in running_funcs:\n",
    "#         running_func.start()\n",
    "#     for running_func in running_funcs:\n",
    "#         running_func.join()\n",
    "    "
   ]
  },
  {
   "cell_type": "code",
   "execution_count": 61,
   "id": "8ee7c0c8",
   "metadata": {},
   "outputs": [],
   "source": [
    "process1=Process(target=recordCam1)\n",
    "process2=Process(target=recordCam2)\n",
    "processes=[process1,process2]"
   ]
  },
  {
   "cell_type": "code",
   "execution_count": 28,
   "id": "e856d9bf",
   "metadata": {},
   "outputs": [
    {
     "ename": "PicklingError",
     "evalue": "Can't pickle <function recordCam1 at 0x000001988A7D9AF0>: it's not the same object as __main__.recordCam1",
     "output_type": "error",
     "traceback": [
      "\u001b[1;31m---------------------------------------------------------------------------\u001b[0m",
      "\u001b[1;31mPicklingError\u001b[0m                             Traceback (most recent call last)",
      "\u001b[1;32m~\\AppData\\Local\\Temp/ipykernel_10432/311151330.py\u001b[0m in \u001b[0;36m<module>\u001b[1;34m\u001b[0m\n\u001b[0;32m      1\u001b[0m \u001b[1;32mfor\u001b[0m \u001b[0mprocess\u001b[0m \u001b[1;32min\u001b[0m \u001b[0mprocesses\u001b[0m\u001b[1;33m:\u001b[0m\u001b[1;33m\u001b[0m\u001b[1;33m\u001b[0m\u001b[0m\n\u001b[1;32m----> 2\u001b[1;33m     \u001b[0mprocess\u001b[0m\u001b[1;33m.\u001b[0m\u001b[0mstart\u001b[0m\u001b[1;33m(\u001b[0m\u001b[1;33m)\u001b[0m\u001b[1;33m\u001b[0m\u001b[1;33m\u001b[0m\u001b[0m\n\u001b[0m\u001b[0;32m      3\u001b[0m \u001b[1;32mfor\u001b[0m \u001b[0mprocess\u001b[0m \u001b[1;32min\u001b[0m \u001b[0mprocesses\u001b[0m\u001b[1;33m:\u001b[0m\u001b[1;33m\u001b[0m\u001b[1;33m\u001b[0m\u001b[0m\n\u001b[0;32m      4\u001b[0m     \u001b[0mprocess\u001b[0m\u001b[1;33m.\u001b[0m\u001b[0mjoin\u001b[0m\u001b[1;33m(\u001b[0m\u001b[1;33m)\u001b[0m\u001b[1;33m\u001b[0m\u001b[1;33m\u001b[0m\u001b[0m\n",
      "\u001b[1;32m~\\anaconda3\\lib\\multiprocessing\\process.py\u001b[0m in \u001b[0;36mstart\u001b[1;34m(self)\u001b[0m\n\u001b[0;32m    119\u001b[0m                \u001b[1;34m'daemonic processes are not allowed to have children'\u001b[0m\u001b[1;33m\u001b[0m\u001b[1;33m\u001b[0m\u001b[0m\n\u001b[0;32m    120\u001b[0m         \u001b[0m_cleanup\u001b[0m\u001b[1;33m(\u001b[0m\u001b[1;33m)\u001b[0m\u001b[1;33m\u001b[0m\u001b[1;33m\u001b[0m\u001b[0m\n\u001b[1;32m--> 121\u001b[1;33m         \u001b[0mself\u001b[0m\u001b[1;33m.\u001b[0m\u001b[0m_popen\u001b[0m \u001b[1;33m=\u001b[0m \u001b[0mself\u001b[0m\u001b[1;33m.\u001b[0m\u001b[0m_Popen\u001b[0m\u001b[1;33m(\u001b[0m\u001b[0mself\u001b[0m\u001b[1;33m)\u001b[0m\u001b[1;33m\u001b[0m\u001b[1;33m\u001b[0m\u001b[0m\n\u001b[0m\u001b[0;32m    122\u001b[0m         \u001b[0mself\u001b[0m\u001b[1;33m.\u001b[0m\u001b[0m_sentinel\u001b[0m \u001b[1;33m=\u001b[0m \u001b[0mself\u001b[0m\u001b[1;33m.\u001b[0m\u001b[0m_popen\u001b[0m\u001b[1;33m.\u001b[0m\u001b[0msentinel\u001b[0m\u001b[1;33m\u001b[0m\u001b[1;33m\u001b[0m\u001b[0m\n\u001b[0;32m    123\u001b[0m         \u001b[1;31m# Avoid a refcycle if the target function holds an indirect\u001b[0m\u001b[1;33m\u001b[0m\u001b[1;33m\u001b[0m\u001b[0m\n",
      "\u001b[1;32m~\\anaconda3\\lib\\multiprocessing\\context.py\u001b[0m in \u001b[0;36m_Popen\u001b[1;34m(process_obj)\u001b[0m\n\u001b[0;32m    222\u001b[0m     \u001b[1;33m@\u001b[0m\u001b[0mstaticmethod\u001b[0m\u001b[1;33m\u001b[0m\u001b[1;33m\u001b[0m\u001b[0m\n\u001b[0;32m    223\u001b[0m     \u001b[1;32mdef\u001b[0m \u001b[0m_Popen\u001b[0m\u001b[1;33m(\u001b[0m\u001b[0mprocess_obj\u001b[0m\u001b[1;33m)\u001b[0m\u001b[1;33m:\u001b[0m\u001b[1;33m\u001b[0m\u001b[1;33m\u001b[0m\u001b[0m\n\u001b[1;32m--> 224\u001b[1;33m         \u001b[1;32mreturn\u001b[0m \u001b[0m_default_context\u001b[0m\u001b[1;33m.\u001b[0m\u001b[0mget_context\u001b[0m\u001b[1;33m(\u001b[0m\u001b[1;33m)\u001b[0m\u001b[1;33m.\u001b[0m\u001b[0mProcess\u001b[0m\u001b[1;33m.\u001b[0m\u001b[0m_Popen\u001b[0m\u001b[1;33m(\u001b[0m\u001b[0mprocess_obj\u001b[0m\u001b[1;33m)\u001b[0m\u001b[1;33m\u001b[0m\u001b[1;33m\u001b[0m\u001b[0m\n\u001b[0m\u001b[0;32m    225\u001b[0m \u001b[1;33m\u001b[0m\u001b[0m\n\u001b[0;32m    226\u001b[0m \u001b[1;32mclass\u001b[0m \u001b[0mDefaultContext\u001b[0m\u001b[1;33m(\u001b[0m\u001b[0mBaseContext\u001b[0m\u001b[1;33m)\u001b[0m\u001b[1;33m:\u001b[0m\u001b[1;33m\u001b[0m\u001b[1;33m\u001b[0m\u001b[0m\n",
      "\u001b[1;32m~\\anaconda3\\lib\\multiprocessing\\context.py\u001b[0m in \u001b[0;36m_Popen\u001b[1;34m(process_obj)\u001b[0m\n\u001b[0;32m    325\u001b[0m         \u001b[1;32mdef\u001b[0m \u001b[0m_Popen\u001b[0m\u001b[1;33m(\u001b[0m\u001b[0mprocess_obj\u001b[0m\u001b[1;33m)\u001b[0m\u001b[1;33m:\u001b[0m\u001b[1;33m\u001b[0m\u001b[1;33m\u001b[0m\u001b[0m\n\u001b[0;32m    326\u001b[0m             \u001b[1;32mfrom\u001b[0m \u001b[1;33m.\u001b[0m\u001b[0mpopen_spawn_win32\u001b[0m \u001b[1;32mimport\u001b[0m \u001b[0mPopen\u001b[0m\u001b[1;33m\u001b[0m\u001b[1;33m\u001b[0m\u001b[0m\n\u001b[1;32m--> 327\u001b[1;33m             \u001b[1;32mreturn\u001b[0m \u001b[0mPopen\u001b[0m\u001b[1;33m(\u001b[0m\u001b[0mprocess_obj\u001b[0m\u001b[1;33m)\u001b[0m\u001b[1;33m\u001b[0m\u001b[1;33m\u001b[0m\u001b[0m\n\u001b[0m\u001b[0;32m    328\u001b[0m \u001b[1;33m\u001b[0m\u001b[0m\n\u001b[0;32m    329\u001b[0m     \u001b[1;32mclass\u001b[0m \u001b[0mSpawnContext\u001b[0m\u001b[1;33m(\u001b[0m\u001b[0mBaseContext\u001b[0m\u001b[1;33m)\u001b[0m\u001b[1;33m:\u001b[0m\u001b[1;33m\u001b[0m\u001b[1;33m\u001b[0m\u001b[0m\n",
      "\u001b[1;32m~\\anaconda3\\lib\\multiprocessing\\popen_spawn_win32.py\u001b[0m in \u001b[0;36m__init__\u001b[1;34m(self, process_obj)\u001b[0m\n\u001b[0;32m     91\u001b[0m             \u001b[1;32mtry\u001b[0m\u001b[1;33m:\u001b[0m\u001b[1;33m\u001b[0m\u001b[1;33m\u001b[0m\u001b[0m\n\u001b[0;32m     92\u001b[0m                 \u001b[0mreduction\u001b[0m\u001b[1;33m.\u001b[0m\u001b[0mdump\u001b[0m\u001b[1;33m(\u001b[0m\u001b[0mprep_data\u001b[0m\u001b[1;33m,\u001b[0m \u001b[0mto_child\u001b[0m\u001b[1;33m)\u001b[0m\u001b[1;33m\u001b[0m\u001b[1;33m\u001b[0m\u001b[0m\n\u001b[1;32m---> 93\u001b[1;33m                 \u001b[0mreduction\u001b[0m\u001b[1;33m.\u001b[0m\u001b[0mdump\u001b[0m\u001b[1;33m(\u001b[0m\u001b[0mprocess_obj\u001b[0m\u001b[1;33m,\u001b[0m \u001b[0mto_child\u001b[0m\u001b[1;33m)\u001b[0m\u001b[1;33m\u001b[0m\u001b[1;33m\u001b[0m\u001b[0m\n\u001b[0m\u001b[0;32m     94\u001b[0m             \u001b[1;32mfinally\u001b[0m\u001b[1;33m:\u001b[0m\u001b[1;33m\u001b[0m\u001b[1;33m\u001b[0m\u001b[0m\n\u001b[0;32m     95\u001b[0m                 \u001b[0mset_spawning_popen\u001b[0m\u001b[1;33m(\u001b[0m\u001b[1;32mNone\u001b[0m\u001b[1;33m)\u001b[0m\u001b[1;33m\u001b[0m\u001b[1;33m\u001b[0m\u001b[0m\n",
      "\u001b[1;32m~\\anaconda3\\lib\\multiprocessing\\reduction.py\u001b[0m in \u001b[0;36mdump\u001b[1;34m(obj, file, protocol)\u001b[0m\n\u001b[0;32m     58\u001b[0m \u001b[1;32mdef\u001b[0m \u001b[0mdump\u001b[0m\u001b[1;33m(\u001b[0m\u001b[0mobj\u001b[0m\u001b[1;33m,\u001b[0m \u001b[0mfile\u001b[0m\u001b[1;33m,\u001b[0m \u001b[0mprotocol\u001b[0m\u001b[1;33m=\u001b[0m\u001b[1;32mNone\u001b[0m\u001b[1;33m)\u001b[0m\u001b[1;33m:\u001b[0m\u001b[1;33m\u001b[0m\u001b[1;33m\u001b[0m\u001b[0m\n\u001b[0;32m     59\u001b[0m     \u001b[1;34m'''Replacement for pickle.dump() using ForkingPickler.'''\u001b[0m\u001b[1;33m\u001b[0m\u001b[1;33m\u001b[0m\u001b[0m\n\u001b[1;32m---> 60\u001b[1;33m     \u001b[0mForkingPickler\u001b[0m\u001b[1;33m(\u001b[0m\u001b[0mfile\u001b[0m\u001b[1;33m,\u001b[0m \u001b[0mprotocol\u001b[0m\u001b[1;33m)\u001b[0m\u001b[1;33m.\u001b[0m\u001b[0mdump\u001b[0m\u001b[1;33m(\u001b[0m\u001b[0mobj\u001b[0m\u001b[1;33m)\u001b[0m\u001b[1;33m\u001b[0m\u001b[1;33m\u001b[0m\u001b[0m\n\u001b[0m\u001b[0;32m     61\u001b[0m \u001b[1;33m\u001b[0m\u001b[0m\n\u001b[0;32m     62\u001b[0m \u001b[1;31m#\u001b[0m\u001b[1;33m\u001b[0m\u001b[1;33m\u001b[0m\u001b[0m\n",
      "\u001b[1;31mPicklingError\u001b[0m: Can't pickle <function recordCam1 at 0x000001988A7D9AF0>: it's not the same object as __main__.recordCam1"
     ]
    }
   ],
   "source": [
    "for process in processes:\n",
    "    process.start()\n",
    "for process in processes:\n",
    "    process.join()"
   ]
  },
  {
   "cell_type": "code",
   "execution_count": 44,
   "id": "c0f61101",
   "metadata": {},
   "outputs": [],
   "source": [
    "# from multiprocessing import Process\n",
    "\n",
    "# def run_cpu_tasks_in_parallel(tasks):\n",
    "#     running_tasks = [Process(target=task) for task in tasks]\n",
    "#     for running_task in running_tasks:\n",
    "#         running_task.start()\n",
    "#     for running_task in running_tasks:\n",
    "#         running_task.join()\n",
    "\n",
    "# run_cpu_tasks_in_parallel([\n",
    "#     recordCam1,\n",
    "#     recordCam2\n",
    "# ])"
   ]
  },
  {
   "cell_type": "code",
   "execution_count": 45,
   "id": "54154303",
   "metadata": {},
   "outputs": [],
   "source": [
    "import ray"
   ]
  },
  {
   "cell_type": "code",
   "execution_count": 62,
   "id": "95c93b6c",
   "metadata": {},
   "outputs": [
    {
     "name": "stdout",
     "output_type": "stream",
     "text": [
      " pid=7756)\u001b[0m RECORDING forcam2 started at 1656984924 seconds.\n",
      " pid=9752)\u001b[0m RECORDING forcam1 started at 1656984924 seconds.\n"
     ]
    },
    {
     "name": "stderr",
     "output_type": "stream",
     "text": [
      "\u001b[2m\u001b[36m(recordCam\r\n",
      " pid=7756)\u001b[0m ffmpeg version 2022-02-07-git-04cc7a5548-full_build-www.gyan.dev Copyright (c) 2000-2022 the FFmpeg developers\r\n",
      "\u001b[2m\u001b[36m(recordCam\r\n",
      " pid=7756)\u001b[0m   built with gcc 11.2.0 (Rev7, Built by MSYS2 project)\r\n",
      "\u001b[2m\u001b[36m(recordCam\r\n",
      " pid=7756)\u001b[0m   configuration: --enable-gpl --enable-version3 --enable-static --disable-w32threads --disable-autodetect --enable-fontconfig --enable-iconv --enable-gnutls --enable-libxml2 --enable-gmp --enable-bzlib --enable-lzma --enable-libsnappy --enable-zlib --enable-librist --enable-libsrt --enable-libssh --enable-libzmq --enable-avisynth --enable-libbluray --enable-libcaca --enable-sdl2 --enable-libdav1d --enable-libdavs2 --enable-libuavs3d --enable-libzvbi --enable-librav1e --enable-libsvtav1 --enable-libwebp --enable-libx264 --enable-libx265 --enable-libxavs2 --enable-libxvid --enable-libaom --enable-libopenjpeg --enable-libvpx --enable-mediafoundation --enable-libass --enable-frei0r --enable-libfreetype --enable-libfribidi --enable-libvidstab --enable-libvmaf --enable-libzimg --enable-amf --enable-cuda-llvm --enable-cuvid --enable-ffnvcodec --enable-nvdec --enable-nvenc --enable-d3d11va --enable-dxva2 --enable-libmfx --enable-libshaderc --enable-vulkan --enable-libplacebo --enable-opencl --enable-libcdio --enable-libgme --enable-libmodplug --enable-libopenmpt --enable-libopencore-amrwb --enable-libmp3lame --enable-libshine --enable-libtheora --enable-libtwolame --enable-libvo-amrwbenc --enable-libilbc --enable-libgsm --enable-libopencore-amrnb --enable-libopus --enable-libspeex --enable-libvorbis --enable-ladspa --enable-libbs2b --enable-libflite --enable-libmysofa --enable-librubberband --enable-libsoxr --enable-chromaprint\r\n",
      "\u001b[2m\u001b[36m(recordCam\r\n",
      " pid=7756)\u001b[0m   libavutil      57. 21.100 / 57. 21.100\r\n",
      "\u001b[2m\u001b[36m(recordCam\r\n",
      " pid=7756)\u001b[0m   libavcodec     59. 20.100 / 59. 20.100\r\n",
      "\u001b[2m\u001b[36m(recordCam\r\n",
      " pid=7756)\u001b[0m   libavformat    59. 17.101 / 59. 17.101\r\n",
      "\u001b[2m\u001b[36m(recordCam\r\n",
      " pid=7756)\u001b[0m   libavdevice    59.  5.100 / 59.  5.100\r\n",
      "\u001b[2m\u001b[36m(recordCam\r\n",
      " pid=7756)\u001b[0m   libavfilter     8. 26.101 /  8. 26.101\r\n",
      "\u001b[2m\u001b[36m(recordCam\r\n",
      " pid=7756)\u001b[0m   libswscale      6.  5.100 /  6.  5.100\r\n",
      "\u001b[2m\u001b[36m(recordCam\r\n",
      " pid=7756)\u001b[0m   libswresample   4.  4.100 /  4.  4.100\r\n",
      "\u001b[2m\u001b[36m(recordCam\r\n",
      " pid=7756)\u001b[0m   libpostproc    56.  4.100 / 56.  4.100\r\n",
      "\u001b[2m\u001b[36m(recordCam\r\n",
      " pid=7756)\u001b[0m Input #0, h264, from './data/7_4_2022_1835/cam2/videos/record_mono1.h264':\r\n",
      "\u001b[2m\u001b[36m(recordCam\r\n",
      " pid=7756)\u001b[0m   Duration: N/A, bitrate: N/A\r\n",
      "\u001b[2m\u001b[36m(recordCam\r\n",
      " pid=7756)\u001b[0m   Stream #0:0: Video: h264 (High), yuv420p(tv, bt470bg, progressive), 1280x720 [SAR 1:1 DAR 16:9], 30 fps, 30 tbr, 1200k tbn\r\n",
      "\u001b[2m\u001b[36m(recordCam\r\n",
      " pid=7756)\u001b[0m Output #0, mp4, to './data/7_4_2022_1835/cam2/videos/record_mono1.mp4':\r\n",
      "\u001b[2m\u001b[36m(recordCam\r\n",
      " pid=7756)\u001b[0m   Metadata:\r\n",
      "\u001b[2m\u001b[36m(recordCam\r\n",
      " pid=7756)\u001b[0m     encoder         : Lavf59.17.101\r\n",
      "\u001b[2m\u001b[36m(recordCam\r\n",
      " pid=7756)\u001b[0m   Stream #0:0: Video: h264 (High) (avc1 / 0x31637661), yuv420p(tv, bt470bg, progressive), 1280x720 [SAR 1:1 DAR 16:9], q=2-31, 30 fps, 30 tbr, 1200k tbn\r\n",
      "\u001b[2m\u001b[36m(recordCam\r\n",
      " pid=7756)\u001b[0m Stream mapping:\r\n",
      "\u001b[2m\u001b[36m(recordCam\r\n",
      " pid=7756)\u001b[0m   Stream #0:0 -> #0:0 (copy)\r\n",
      "\u001b[2m\u001b[36m(recordCam\r\n",
      " pid=7756)\u001b[0m Press [q] to stop, [?] for help\r\n",
      "\u001b[2m\u001b[36m(recordCam\r\n",
      " pid=7756)\u001b[0m [mp4 @ 000002314ae0ca00] Timestamps are unset in a packet for stream 0. This is deprecated and will stop working in the future. Fix your code to set the timestamps properly\r\n",
      "\u001b[2m\u001b[36m(recordCam\r\n",
      " pid=7756)\u001b[0m frame=    1 fps=0.0 q=-1.0 size=       0kB time=00:00:00.00 bitrate=384000.0kbits/s speed=N/A    \r\n",
      "frame=  358 fps=0.0 q=-1.0 Lsize=    5853kB time=00:00:11.89 bitrate=4029.4kbits/s speed= 961x    \r\n",
      "\u001b[2m\u001b[36m(recordCam\r\n",
      " pid=7756)\u001b[0m video:5849kB audio:0kB subtitle:0kB other streams:0kB global headers:0kB muxing overhead: 0.079079%\r\n",
      "\u001b[2m\u001b[36m(recordCam\r\n",
      " pid=7756)\u001b[0m ffmpeg version 2022-02-07-git-04cc7a5548-full_build-www.gyan.dev Copyright (c) 2000-2022 the FFmpeg developers\r\n",
      "\u001b[2m\u001b[36m(recordCam\r\n",
      " pid=7756)\u001b[0m   built with gcc 11.2.0 (Rev7, Built by MSYS2 project)\r\n",
      "\u001b[2m\u001b[36m(recordCam\r\n",
      " pid=7756)\u001b[0m   configuration: --enable-gpl --enable-version3 --enable-static --disable-w32threads --disable-autodetect --enable-fontconfig --enable-iconv --enable-gnutls --enable-libxml2 --enable-gmp --enable-bzlib --enable-lzma --enable-libsnappy --enable-zlib --enable-librist --enable-libsrt --enable-libssh --enable-libzmq --enable-avisynth --enable-libbluray --enable-libcaca --enable-sdl2 --enable-libdav1d --enable-libdavs2 --enable-libuavs3d --enable-libzvbi --enable-librav1e --enable-libsvtav1 --enable-libwebp --enable-libx264 --enable-libx265 --enable-libxavs2 --enable-libxvid --enable-libaom --enable-libopenjpeg --enable-libvpx --enable-mediafoundation --enable-libass --enable-frei0r --enable-libfreetype --enable-libfribidi --enable-libvidstab --enable-libvmaf --enable-libzimg --enable-amf --enable-cuda-llvm --enable-cuvid --enable-ffnvcodec --enable-nvdec --enable-nvenc --enable-d3d11va --enable-dxva2 --enable-libmfx --enable-libshaderc --enable-vulkan --enable-libplacebo --enable-opencl --enable-libcdio --enable-libgme --enable-libmodplug --enable-libopenmpt --enable-libopencore-amrwb --enable-libmp3lame --enable-libshine --enable-libtheora --enable-libtwolame --enable-libvo-amrwbenc --enable-libilbc --enable-libgsm --enable-libopencore-amrnb --enable-libopus --enable-libspeex --enable-libvorbis --enable-ladspa --enable-libbs2b --enable-libflite --enable-libmysofa --enable-librubberband --enable-libsoxr --enable-chromaprint\r\n",
      "\u001b[2m\u001b[36m(recordCam\r\n",
      " pid=7756)\u001b[0m   libavutil      57. 21.100 / 57. 21.100\r\n",
      "\u001b[2m\u001b[36m(recordCam\r\n",
      " pid=7756)\u001b[0m   libavcodec     59. 20.100 / 59. 20.100\r\n",
      "\u001b[2m\u001b[36m(recordCam\r\n",
      " pid=7756)\u001b[0m   libavformat    59. 17.101 / 59. 17.101\r\n",
      "\u001b[2m\u001b[36m(recordCam\r\n",
      " pid=7756)\u001b[0m   libavdevice    59.  5.100 / 59.  5.100\r\n",
      "\u001b[2m\u001b[36m(recordCam\r\n",
      " pid=7756)\u001b[0m   libavfilter     8. 26.101 /  8. 26.101\r\n",
      "\u001b[2m\u001b[36m(recordCam\r\n",
      " pid=7756)\u001b[0m   libswscale      6.  5.100 /  6.  5.100\r\n",
      "\u001b[2m\u001b[36m(recordCam\r\n",
      " pid=7756)\u001b[0m   libswresample   4.  4.100 /  4.  4.100\r\n",
      "\u001b[2m\u001b[36m(recordCam\r\n",
      " pid=7756)\u001b[0m   libpostproc    56.  4.100 / 56.  4.100\r\n",
      "\u001b[2m\u001b[36m(recordCam\r\n",
      " pid=7756)\u001b[0m Input #0, h264, from './data/7_4_2022_1835/cam2/videos/record_mono2.h264':\r\n",
      "\u001b[2m\u001b[36m(recordCam\r\n",
      " pid=7756)\u001b[0m   Duration: N/A, bitrate: N/A\r\n",
      "\u001b[2m\u001b[36m(recordCam\r\n",
      " pid=7756)\u001b[0m   Stream #0:0: Video: h264 (High), yuv420p(tv, bt470bg, progressive), 1280x720 [SAR 1:1 DAR 16:9], 30 fps, 30 tbr, 1200k tbn\r\n",
      "\u001b[2m\u001b[36m(recordCam\r\n",
      " pid=7756)\u001b[0m Output #0, mp4, to './data/7_4_2022_1835/cam2/videos/record_mono2.mp4':\r\n",
      "\u001b[2m\u001b[36m(recordCam\r\n",
      " pid=7756)\u001b[0m   Metadata:\r\n",
      "\u001b[2m\u001b[36m(recordCam\r\n",
      " pid=7756)\u001b[0m     encoder         : Lavf59.17.101\r\n",
      "\u001b[2m\u001b[36m(recordCam\r\n",
      " pid=7756)\u001b[0m   Stream #0:0: Video: h264 (High) (avc1 / 0x31637661), yuv420p(tv, bt470bg, progressive), 1280x720 [SAR 1:1 DAR 16:9], q=2-31, 30 fps, 30 tbr, 1200k tbn\r\n",
      "\u001b[2m\u001b[36m(recordCam\r\n",
      " pid=7756)\u001b[0m Stream mapping:\r\n",
      "\u001b[2m\u001b[36m(recordCam\r\n",
      " pid=7756)\u001b[0m   Stream #0:0 -> #0:0 (copy)\r\n",
      "\u001b[2m\u001b[36m(recordCam\r\n",
      " pid=7756)\u001b[0m Press [q] to stop, [?] for help\r\n",
      "\u001b[2m\u001b[36m(recordCam\r\n",
      " pid=7756)\u001b[0m [mp4 @ 0000026bb4cdec00] Timestamps are unset in a packet for stream 0. This is deprecated and will stop working in the future. Fix your code to set the timestamps properly\r\n",
      "\u001b[2m\u001b[36m(recordCam\r\n",
      " pid=7756)\u001b[0m frame=    1 fps=0.0 q=-1.0 size=       0kB time=00:00:00.00 bitrate=384000.0kbits/s speed=N/A    \r\n",
      "frame=  358 fps=0.0 q=-1.0 Lsize=    5810kB time=00:00:11.89 bitrate=3999.8kbits/s speed=1.5e+03x    \r\n",
      "\u001b[2m\u001b[36m(recordCam\r\n",
      " pid=7756)\u001b[0m video:5806kB audio:0kB subtitle:0kB other streams:0kB global headers:0kB muxing overhead: 0.079664%\r\n"
     ]
    },
    {
     "name": "stdout",
     "output_type": "stream",
     "text": [
      "\u001b[2m\u001b[36m(recordCam\r\n",
      " pid=7756)\u001b[0m Converting to mp4...\r\n"
     ]
    },
    {
     "name": "stderr",
     "output_type": "stream",
     "text": [
      " pid=7756)\u001b[0m ffmpeg version 2022-02-07-git-04cc7a5548-full_build-www.gyan.dev Copyright (c) 2000-2022 the FFmpeg developers\n",
      " pid=7756)\u001b[0m   built with gcc 11.2.0 (Rev7, Built by MSYS2 project)\n",
      " pid=7756)\u001b[0m   configuration: --enable-gpl --enable-version3 --enable-static --disable-w32threads --disable-autodetect --enable-fontconfig --enable-iconv --enable-gnutls --enable-libxml2 --enable-gmp --enable-bzlib --enable-lzma --enable-libsnappy --enable-zlib --enable-librist --enable-libsrt --enable-libssh --enable-libzmq --enable-avisynth --enable-libbluray --enable-libcaca --enable-sdl2 --enable-libdav1d --enable-libdavs2 --enable-libuavs3d --enable-libzvbi --enable-librav1e --enable-libsvtav1 --enable-libwebp --enable-libx264 --enable-libx265 --enable-libxavs2 --enable-libxvid --enable-libaom --enable-libopenjpeg --enable-libvpx --enable-mediafoundation --enable-libass --enable-frei0r --enable-libfreetype --enable-libfribidi --enable-libvidstab --enable-libvmaf --enable-libzimg --enable-amf --enable-cuda-llvm --enable-cuvid --enable-ffnvcodec --enable-nvdec --enable-nvenc --enable-d3d11va --enable-dxva2 --enable-libmfx --enable-libshaderc --enable-vulkan --enable-libplacebo --enable-opencl --enable-libcdio --enable-libgme --enable-libmodplug --enable-libopenmpt --enable-libopencore-amrwb --enable-libmp3lame --enable-libshine --enable-libtheora --enable-libtwolame --enable-libvo-amrwbenc --enable-libilbc --enable-libgsm --enable-libopencore-amrnb --enable-libopus --enable-libspeex --enable-libvorbis --enable-ladspa --enable-libbs2b --enable-libflite --enable-libmysofa --enable-librubberband --enable-libsoxr --enable-chromaprint\n",
      " pid=7756)\u001b[0m   libavutil      57. 21.100 / 57. 21.100\n",
      " pid=7756)\u001b[0m   libavcodec     59. 20.100 / 59. 20.100\n",
      " pid=7756)\u001b[0m   libavformat    59. 17.101 / 59. 17.101\n",
      " pid=7756)\u001b[0m   libavdevice    59.  5.100 / 59.  5.100\n",
      " pid=7756)\u001b[0m   libavfilter     8. 26.101 /  8. 26.101\n",
      " pid=7756)\u001b[0m   libswscale      6.  5.100 /  6.  5.100\n",
      " pid=7756)\u001b[0m   libswresample   4.  4.100 /  4.  4.100\n",
      " pid=7756)\u001b[0m   libpostproc    56.  4.100 / 56.  4.100\n",
      " pid=7756)\u001b[0m [h264 @ 000001f3e198c5c0] Stream #0: not enough frames to estimate rate; consider increasing probesize\n",
      " pid=7756)\u001b[0m Input #0, h264, from './data/7_4_2022_1835/cam2/videos/record_color.h264':\n",
      " pid=7756)\u001b[0m   Duration: N/A, bitrate: N/A\n",
      " pid=7756)\u001b[0m   Stream #0:0: Video: h264 (High), yuv420p(tv, bt470bg, progressive), 1920x1080 [SAR 1:1 DAR 16:9], 30 fps, 30 tbr, 1200k tbn\n",
      " pid=7756)\u001b[0m Output #0, mp4, to './data/7_4_2022_1835/cam2/videos/record_color.mp4':\n",
      " pid=7756)\u001b[0m   Metadata:\n",
      " pid=7756)\u001b[0m     encoder         : Lavf59.17.101\n",
      " pid=7756)\u001b[0m   Stream #0:0: Video: h264 (High) (avc1 / 0x31637661), yuv420p(tv, bt470bg, progressive), 1920x1080 [SAR 1:1 DAR 16:9], q=2-31, 30 fps, 30 tbr, 1200k tbn\n",
      " pid=7756)\u001b[0m Stream mapping:\n",
      " pid=7756)\u001b[0m   Stream #0:0 -> #0:0 (copy)\n",
      " pid=7756)\u001b[0m Press [q] to stop, [?] for help\n",
      " pid=7756)\u001b[0m [mp4 @ 000001f3e292c780] Timestamps are unset in a packet for stream 0. This is deprecated and will stop working in the future. Fix your code to set the timestamps properly\n",
      "frame=  358 fps=0.0 q=-1.0 Lsize=   12341kB time=00:00:11.89 bitrate=8496.0kbits/s speed= 741x     speed=N/A    \n",
      " pid=7756)\u001b[0m video:12337kB audio:0kB subtitle:0kB other streams:0kB global headers:0kB muxing overhead: 0.038107%\n",
      " pid=9752)\u001b[0m ffmpeg version 2022-02-07-git-04cc7a5548-full_build-www.gyan.dev Copyright (c) 2000-2022 the FFmpeg developers\n",
      " pid=9752)\u001b[0m   built with gcc 11.2.0 (Rev7, Built by MSYS2 project)\n",
      " pid=9752)\u001b[0m   configuration: --enable-gpl --enable-version3 --enable-static --disable-w32threads --disable-autodetect --enable-fontconfig --enable-iconv --enable-gnutls --enable-libxml2 --enable-gmp --enable-bzlib --enable-lzma --enable-libsnappy --enable-zlib --enable-librist --enable-libsrt --enable-libssh --enable-libzmq --enable-avisynth --enable-libbluray --enable-libcaca --enable-sdl2 --enable-libdav1d --enable-libdavs2 --enable-libuavs3d --enable-libzvbi --enable-librav1e --enable-libsvtav1 --enable-libwebp --enable-libx264 --enable-libx265 --enable-libxavs2 --enable-libxvid --enable-libaom --enable-libopenjpeg --enable-libvpx --enable-mediafoundation --enable-libass --enable-frei0r --enable-libfreetype --enable-libfribidi --enable-libvidstab --enable-libvmaf --enable-libzimg --enable-amf --enable-cuda-llvm --enable-cuvid --enable-ffnvcodec --enable-nvdec --enable-nvenc --enable-d3d11va --enable-dxva2 --enable-libmfx --enable-libshaderc --enable-vulkan --enable-libplacebo --enable-opencl --enable-libcdio --enable-libgme --enable-libmodplug --enable-libopenmpt --enable-libopencore-amrwb --enable-libmp3lame --enable-libshine --enable-libtheora --enable-libtwolame --enable-libvo-amrwbenc --enable-libilbc --enable-libgsm --enable-libopencore-amrnb --enable-libopus --enable-libspeex --enable-libvorbis --enable-ladspa --enable-libbs2b --enable-libflite --enable-libmysofa --enable-librubberband --enable-libsoxr --enable-chromaprint\n",
      " pid=9752)\u001b[0m   libavutil      57. 21.100 / 57. 21.100\n",
      " pid=9752)\u001b[0m   libavcodec     59. 20.100 / 59. 20.100\n",
      " pid=9752)\u001b[0m   libavformat    59. 17.101 / 59. 17.101\n",
      " pid=9752)\u001b[0m   libavdevice    59.  5.100 / 59.  5.100\n",
      " pid=9752)\u001b[0m   libavfilter     8. 26.101 /  8. 26.101\n",
      " pid=9752)\u001b[0m   libswscale      6.  5.100 /  6.  5.100\n",
      " pid=9752)\u001b[0m   libswresample   4.  4.100 /  4.  4.100\n",
      " pid=9752)\u001b[0m   libpostproc    56.  4.100 / 56.  4.100\n",
      " pid=9752)\u001b[0m Input #0, h264, from './data/7_4_2022_1835/cam1/videos/record_mono1.h264':\n",
      " pid=9752)\u001b[0m   Duration: N/A, bitrate: N/A\n",
      " pid=9752)\u001b[0m   Stream #0:0: Video: h264 (High), yuv420p(tv, bt470bg, progressive), 1280x720 [SAR 1:1 DAR 16:9], 30 fps, 30 tbr, 1200k tbn\n",
      " pid=9752)\u001b[0m Output #0, mp4, to './data/7_4_2022_1835/cam1/videos/record_mono1.mp4':\n",
      " pid=9752)\u001b[0m   Metadata:\n",
      " pid=9752)\u001b[0m     encoder         : Lavf59.17.101\n",
      " pid=9752)\u001b[0m   Stream #0:0: Video: h264 (High) (avc1 / 0x31637661), yuv420p(tv, bt470bg, progressive), 1280x720 [SAR 1:1 DAR 16:9], q=2-31, 30 fps, 30 tbr, 1200k tbn\n",
      " pid=9752)\u001b[0m Stream mapping:\n",
      " pid=9752)\u001b[0m   Stream #0:0 -> #0:0 (copy)\n",
      " pid=9752)\u001b[0m Press [q] to stop, [?] for help\n",
      " pid=9752)\u001b[0m [mp4 @ 0000018c0868da40] Timestamps are unset in a packet for stream 0. This is deprecated and will stop working in the future. Fix your code to set the timestamps properly\n",
      "frame=  358 fps=0.0 q=-1.0 Lsize=    5884kB time=00:00:11.89 bitrate=4050.3kbits/s speed= 946x     speed=   1x    \n",
      " pid=9752)\u001b[0m video:5879kB audio:0kB subtitle:0kB other streams:0kB global headers:0kB muxing overhead: 0.078272%\n",
      " pid=9752)\u001b[0m ffmpeg version 2022-02-07-git-04cc7a5548-full_build-www.gyan.dev Copyright (c) 2000-2022 the FFmpeg developers\n",
      " pid=9752)\u001b[0m   built with gcc 11.2.0 (Rev7, Built by MSYS2 project)\n",
      " pid=9752)\u001b[0m   configuration: --enable-gpl --enable-version3 --enable-static --disable-w32threads --disable-autodetect --enable-fontconfig --enable-iconv --enable-gnutls --enable-libxml2 --enable-gmp --enable-bzlib --enable-lzma --enable-libsnappy --enable-zlib --enable-librist --enable-libsrt --enable-libssh --enable-libzmq --enable-avisynth --enable-libbluray --enable-libcaca --enable-sdl2 --enable-libdav1d --enable-libdavs2 --enable-libuavs3d --enable-libzvbi --enable-librav1e --enable-libsvtav1 --enable-libwebp --enable-libx264 --enable-libx265 --enable-libxavs2 --enable-libxvid --enable-libaom --enable-libopenjpeg --enable-libvpx --enable-mediafoundation --enable-libass --enable-frei0r --enable-libfreetype --enable-libfribidi --enable-libvidstab --enable-libvmaf --enable-libzimg --enable-amf --enable-cuda-llvm --enable-cuvid --enable-ffnvcodec --enable-nvdec --enable-nvenc --enable-d3d11va --enable-dxva2 --enable-libmfx --enable-libshaderc --enable-vulkan --enable-libplacebo --enable-opencl --enable-libcdio --enable-libgme --enable-libmodplug --enable-libopenmpt --enable-libopencore-amrwb --enable-libmp3lame --enable-libshine --enable-libtheora --enable-libtwolame --enable-libvo-amrwbenc --enable-libilbc --enable-libgsm --enable-libopencore-amrnb --enable-libopus --enable-libspeex --enable-libvorbis --enable-ladspa --enable-libbs2b --enable-libflite --enable-libmysofa --enable-librubberband --enable-libsoxr --enable-chromaprint\n",
      " pid=9752)\u001b[0m   libavutil      57. 21.100 / 57. 21.100\n",
      " pid=9752)\u001b[0m   libavcodec     59. 20.100 / 59. 20.100\n",
      " pid=9752)\u001b[0m   libavformat    59. 17.101 / 59. 17.101\n",
      " pid=9752)\u001b[0m   libavdevice    59.  5.100 / 59.  5.100\n",
      " pid=9752)\u001b[0m   libavfilter     8. 26.101 /  8. 26.101\n",
      " pid=9752)\u001b[0m   libswscale      6.  5.100 /  6.  5.100\n",
      " pid=9752)\u001b[0m   libswresample   4.  4.100 /  4.  4.100\n",
      " pid=9752)\u001b[0m   libpostproc    56.  4.100 / 56.  4.100\n",
      " pid=9752)\u001b[0m Input #0, h264, from './data/7_4_2022_1835/cam1/videos/record_mono2.h264':\n",
      " pid=9752)\u001b[0m   Duration: N/A, bitrate: N/A\n",
      " pid=9752)\u001b[0m   Stream #0:0: Video: h264 (High), yuv420p(tv, bt470bg, progressive), 1280x720 [SAR 1:1 DAR 16:9], 30 fps, 30 tbr, 1200k tbn\n",
      " pid=9752)\u001b[0m Output #0, mp4, to './data/7_4_2022_1835/cam1/videos/record_mono2.mp4':\n",
      " pid=9752)\u001b[0m   Metadata:\n",
      " pid=9752)\u001b[0m     encoder         : Lavf59.17.101\n",
      " pid=9752)\u001b[0m   Stream #0:0: Video: h264 (High) (avc1 / 0x31637661), yuv420p(tv, bt470bg, progressive), 1280x720 [SAR 1:1 DAR 16:9], q=2-31, 30 fps, 30 tbr, 1200k tbn\n",
      " pid=9752)\u001b[0m Stream mapping:\n",
      " pid=9752)\u001b[0m   Stream #0:0 -> #0:0 (copy)\n",
      " pid=9752)\u001b[0m Press [q] to stop, [?] for help\n",
      " pid=9752)\u001b[0m [mp4 @ 00000225d309a3c0] Timestamps are unset in a packet for stream 0. This is deprecated and will stop working in the future. Fix your code to set the timestamps properly\n",
      "frame=  358 fps=0.0 q=-1.0 Lsize=    5862kB time=00:00:11.89 bitrate=4035.8kbits/s speed=1.67e+03x    ed= 0.5x    \n",
      " pid=9752)\u001b[0m video:5858kB audio:0kB subtitle:0kB other streams:0kB global headers:0kB muxing overhead: 0.078553%\n"
     ]
    },
    {
     "name": "stdout",
     "output_type": "stream",
     "text": [
      "\u001b[2m\u001b[36m(recordCam\r\n",
      " pid=9752)\u001b[0m Converting to mp4...\r\n"
     ]
    },
    {
     "name": "stderr",
     "output_type": "stream",
     "text": [
      "\u001b[2m\u001b[36m(recordCam\r\n",
      " pid=9752)\u001b[0m ffmpeg version 2022-02-07-git-04cc7a5548-full_build-www.gyan.dev Copyright (c) 2000-2022 the FFmpeg developers\r\n",
      "\u001b[2m\u001b[36m(recordCam\r\n",
      " pid=9752)\u001b[0m   built with gcc 11.2.0 (Rev7, Built by MSYS2 project)\r\n",
      "\u001b[2m\u001b[36m(recordCam\r\n",
      " pid=9752)\u001b[0m   configuration: --enable-gpl --enable-version3 --enable-static --disable-w32threads --disable-autodetect --enable-fontconfig --enable-iconv --enable-gnutls --enable-libxml2 --enable-gmp --enable-bzlib --enable-lzma --enable-libsnappy --enable-zlib --enable-librist --enable-libsrt --enable-libssh --enable-libzmq --enable-avisynth --enable-libbluray --enable-libcaca --enable-sdl2 --enable-libdav1d --enable-libdavs2 --enable-libuavs3d --enable-libzvbi --enable-librav1e --enable-libsvtav1 --enable-libwebp --enable-libx264 --enable-libx265 --enable-libxavs2 --enable-libxvid --enable-libaom --enable-libopenjpeg --enable-libvpx --enable-mediafoundation --enable-libass --enable-frei0r --enable-libfreetype --enable-libfribidi --enable-libvidstab --enable-libvmaf --enable-libzimg --enable-amf --enable-cuda-llvm --enable-cuvid --enable-ffnvcodec --enable-nvdec --enable-nvenc --enable-d3d11va --enable-dxva2 --enable-libmfx --enable-libshaderc --enable-vulkan --enable-libplacebo --enable-opencl --enable-libcdio --enable-libgme --enable-libmodplug --enable-libopenmpt --enable-libopencore-amrwb --enable-libmp3lame --enable-libshine --enable-libtheora --enable-libtwolame --enable-libvo-amrwbenc --enable-libilbc --enable-libgsm --enable-libopencore-amrnb --enable-libopus --enable-libspeex --enable-libvorbis --enable-ladspa --enable-libbs2b --enable-libflite --enable-libmysofa --enable-librubberband --enable-libsoxr --enable-chromaprint\r\n",
      "\u001b[2m\u001b[36m(recordCam\r\n",
      " pid=9752)\u001b[0m   libavutil      57. 21.100 / 57. 21.100\r\n",
      "\u001b[2m\u001b[36m(recordCam\r\n",
      " pid=9752)\u001b[0m   libavcodec     59. 20.100 / 59. 20.100\r\n",
      "\u001b[2m\u001b[36m(recordCam\r\n",
      " pid=9752)\u001b[0m   libavformat    59. 17.101 / 59. 17.101\r\n",
      "\u001b[2m\u001b[36m(recordCam\r\n",
      " pid=9752)\u001b[0m   libavdevice    59.  5.100 / 59.  5.100\r\n",
      "\u001b[2m\u001b[36m(recordCam\r\n",
      " pid=9752)\u001b[0m   libavfilter     8. 26.101 /  8. 26.101\r\n",
      "\u001b[2m\u001b[36m(recordCam\r\n",
      " pid=9752)\u001b[0m   libswscale      6.  5.100 /  6.  5.100\r\n",
      "\u001b[2m\u001b[36m(recordCam\r\n",
      " pid=9752)\u001b[0m   libswresample   4.  4.100 /  4.  4.100\r\n",
      "\u001b[2m\u001b[36m(recordCam\r\n",
      " pid=9752)\u001b[0m   libpostproc    56.  4.100 / 56.  4.100\r\n",
      "\u001b[2m\u001b[36m(recordCam\r\n",
      " pid=9752)\u001b[0m [h264 @ 000001c0310ec5c0] Stream #0: not enough frames to estimate rate; consider increasing probesize\r\n",
      "\u001b[2m\u001b[36m(recordCam\r\n",
      " pid=9752)\u001b[0m Input #0, h264, from './data/7_4_2022_1835/cam1/videos/record_color.h264':\r\n",
      "\u001b[2m\u001b[36m(recordCam\r\n",
      " pid=9752)\u001b[0m   Duration: N/A, bitrate: N/A\r\n",
      "\u001b[2m\u001b[36m(recordCam\r\n",
      " pid=9752)\u001b[0m   Stream #0:0: Video: h264 (High), yuv420p(tv, bt470bg, progressive), 1920x1080 [SAR 1:1 DAR 16:9], 30 fps, 30 tbr, 1200k tbn\r\n",
      "\u001b[2m\u001b[36m(recordCam\r\n",
      " pid=9752)\u001b[0m Output #0, mp4, to './data/7_4_2022_1835/cam1/videos/record_color.mp4':\r\n",
      "\u001b[2m\u001b[36m(recordCam\r\n",
      " pid=9752)\u001b[0m   Metadata:\r\n",
      "\u001b[2m\u001b[36m(recordCam\r\n",
      " pid=9752)\u001b[0m     encoder         : Lavf59.17.101\r\n",
      "\u001b[2m\u001b[36m(recordCam\r\n",
      " pid=9752)\u001b[0m   Stream #0:0: Video: h264 (High) (avc1 / 0x31637661), yuv420p(tv, bt470bg, progressive), 1920x1080 [SAR 1:1 DAR 16:9], q=2-31, 30 fps, 30 tbr, 1200k tbn\r\n",
      "\u001b[2m\u001b[36m(recordCam\r\n",
      " pid=9752)\u001b[0m Stream mapping:\r\n",
      "\u001b[2m\u001b[36m(recordCam\r\n",
      " pid=9752)\u001b[0m   Stream #0:0 -> #0:0 (copy)\r\n",
      "\u001b[2m\u001b[36m(recordCam\r\n",
      " pid=9752)\u001b[0m Press [q] to stop, [?] for help\r\n",
      "\u001b[2m\u001b[36m(recordCam\r\n",
      " pid=9752)\u001b[0m [mp4 @ 000001c0320c0d40] Timestamps are unset in a packet for stream 0. This is deprecated and will stop working in the future. Fix your code to set the timestamps properly\r\n",
      "\u001b[2m\u001b[36m(recordCam\r\n",
      " pid=9752)\u001b[0m frame=    1 fps=0.0 q=-1.0 size=       0kB time=00:00:00.00 bitrate=384000.0kbits/s speed=   1x    \r\n",
      "frame=  358 fps=0.0 q=-1.0 Lsize=   12327kB time=00:00:11.89 bitrate=8486.0kbits/s speed= 804x    \r\n",
      "\u001b[2m\u001b[36m(recordCam\r\n",
      " pid=9752)\u001b[0m video:12322kB audio:0kB subtitle:0kB other streams:0kB global headers:0kB muxing overhead: 0.038437%\r\n"
     ]
    },
    {
     "name": "stdout",
     "output_type": "stream",
     "text": [
      " pid=7756)\u001b[0m Conversion complete. Removing temporary files\n",
      " pid=7756)\u001b[0m RECORDING for cam2 ended at 1656984941 seconds.\n",
      " pid=9752)\u001b[0m Conversion complete. Removing temporary files\n",
      " pid=9752)\u001b[0m RECORDING for cam1 ended at 1656984941 seconds.\n"
     ]
    },
    {
     "data": {
      "text/plain": [
       "[None, None]"
      ]
     },
     "execution_count": 62,
     "metadata": {},
     "output_type": "execute_result"
    }
   ],
   "source": [
    "\n",
    "ray.init()\n",
    "month,day,year=time.localtime().tm_mon,time.localtime().tm_mday,time.localtime().tm_year\n",
    "hour,minutes,seconds=time.localtime().tm_hour,time.localtime().tm_min,time.localtime().tm_sec\n",
    "dir_name=str(month)+'_'+str(day)+'_'+str(year)+'_'+str(hour)+str(minutes)\n",
    "path=FDIR+'/'+dir_name\n",
    "os.mkdir(path)\n",
    "ray.get([recordCam.remote('14442C10913365D300',path,streamName1,'cam1',10),\n",
    "         recordCam.remote('14442C10810665D300',path,streamName2,'cam2',10)])\n",
    "ray.shutdown()"
   ]
  },
  {
   "cell_type": "code",
   "execution_count": 1,
   "id": "7f28bc4b",
   "metadata": {},
   "outputs": [],
   "source": [
    "import random"
   ]
  },
  {
   "cell_type": "code",
   "execution_count": 14,
   "id": "0c928db1",
   "metadata": {},
   "outputs": [
    {
     "data": {
      "text/plain": [
       "1"
      ]
     },
     "execution_count": 14,
     "metadata": {},
     "output_type": "execute_result"
    }
   ],
   "source": [
    "random.randint(0,1)"
   ]
  },
  {
   "cell_type": "code",
   "execution_count": 15,
   "id": "37ed1c60",
   "metadata": {},
   "outputs": [],
   "source": [
    "random.randint?"
   ]
  },
  {
   "cell_type": "code",
   "execution_count": 16,
   "id": "5a4873cd",
   "metadata": {},
   "outputs": [],
   "source": [
    "import time"
   ]
  },
  {
   "cell_type": "code",
   "execution_count": 17,
   "id": "5cc1b0b9",
   "metadata": {},
   "outputs": [
    {
     "data": {
      "text/plain": [
       "1657671194.7770264"
      ]
     },
     "execution_count": 17,
     "metadata": {},
     "output_type": "execute_result"
    }
   ],
   "source": [
    "time.time()"
   ]
  },
  {
   "cell_type": "code",
   "execution_count": 18,
   "id": "78e69493",
   "metadata": {},
   "outputs": [],
   "source": [
    "from os import listdir\n",
    "from os.path import isfile, join\n",
    "# onlyfiles = [f for f in listdir(mypath) if isfile(join(mypath, f))]"
   ]
  },
  {
   "cell_type": "code",
   "execution_count": 21,
   "id": "43fa03fc",
   "metadata": {},
   "outputs": [],
   "source": [
    "l=listdir(\"./audio-data\")"
   ]
  },
  {
   "cell_type": "code",
   "execution_count": 24,
   "id": "e64e3405",
   "metadata": {},
   "outputs": [
    {
     "data": {
      "text/plain": [
       "'audio2.wav'"
      ]
     },
     "execution_count": 24,
     "metadata": {},
     "output_type": "execute_result"
    }
   ],
   "source": [
    "random.choice(l)"
   ]
  },
  {
   "cell_type": "code",
   "execution_count": 26,
   "id": "137a4282",
   "metadata": {},
   "outputs": [],
   "source": [
    "audio_path='./audio-data/'"
   ]
  },
  {
   "cell_type": "code",
   "execution_count": 27,
   "id": "05a5f3e6",
   "metadata": {},
   "outputs": [],
   "source": [
    "a_path=audio_path+random.choice(l)"
   ]
  },
  {
   "cell_type": "code",
   "execution_count": 32,
   "id": "89b5451b",
   "metadata": {},
   "outputs": [
    {
     "name": "stdout",
     "output_type": "stream",
     "text": [
      "Collecting pygame\n",
      "  Downloading pygame-2.1.2-cp39-cp39-win_amd64.whl (8.4 MB)\n",
      "Installing collected packages: pygame\n",
      "Successfully installed pygame-2.1.2\n"
     ]
    },
    {
     "name": "stderr",
     "output_type": "stream",
     "text": [
      "WARNING: You are using pip version 21.3.1; however, version 22.1.2 is available.\n",
      "You should consider upgrading via the 'C:\\Users\\gehan\\anaconda3\\python.exe -m pip install --upgrade pip' command.\n"
     ]
    }
   ],
   "source": [
    "!pip install pygame"
   ]
  },
  {
   "cell_type": "code",
   "execution_count": 33,
   "id": "464e3ed9",
   "metadata": {},
   "outputs": [
    {
     "name": "stdout",
     "output_type": "stream",
     "text": [
      "pygame 2.1.2 (SDL 2.0.18, Python 3.9.7)\n",
      "Hello from the pygame community. https://www.pygame.org/contribute.html\n"
     ]
    }
   ],
   "source": [
    "import pygame"
   ]
  },
  {
   "cell_type": "code",
   "execution_count": 35,
   "id": "299ab495",
   "metadata": {},
   "outputs": [],
   "source": [
    "pygame.mixer.init()\n",
    "pygame.mixer.music.load(a_path)\n",
    "pygame.mixer.music.play()"
   ]
  },
  {
   "cell_type": "code",
   "execution_count": 36,
   "id": "d4b8b3f9",
   "metadata": {},
   "outputs": [
    {
     "data": {
      "text/plain": [
       "1657671931.4770918"
      ]
     },
     "execution_count": 36,
     "metadata": {},
     "output_type": "execute_result"
    }
   ],
   "source": [
    "time.time()-700"
   ]
  },
  {
   "cell_type": "code",
   "execution_count": null,
   "id": "962906b3",
   "metadata": {},
   "outputs": [],
   "source": []
  }
 ],
 "metadata": {
  "kernelspec": {
   "display_name": "Python 3 (ipykernel)",
   "language": "python",
   "name": "python3"
  },
  "language_info": {
   "codemirror_mode": {
    "name": "ipython",
    "version": 3
   },
   "file_extension": ".py",
   "mimetype": "text/x-python",
   "name": "python",
   "nbconvert_exporter": "python",
   "pygments_lexer": "ipython3",
   "version": "3.9.7"
  }
 },
 "nbformat": 4,
 "nbformat_minor": 5
}
