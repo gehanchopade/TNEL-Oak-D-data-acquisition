{
 "cells": [
  {
   "cell_type": "code",
   "execution_count": 3,
   "id": "f74f6c96",
   "metadata": {},
   "outputs": [],
   "source": [
    "import numpy as np\n",
    "import time\n",
    "import matplotlib.pyplot as plt\n",
    "import cv2\n",
    "import depthai as dai\n",
    "import os"
   ]
  },
  {
   "cell_type": "code",
   "execution_count": 2,
   "id": "de3b2618",
   "metadata": {},
   "outputs": [
    {
     "name": "stdout",
     "output_type": "stream",
     "text": [
      "Press Ctrl+C to stop encoding...\n"
     ]
    }
   ],
   "source": [
    "# Create pipeline\n",
    "pipeline = dai.Pipeline()\n",
    "FDIR='./data'\n",
    "# Define sources and outputs\n",
    "camRgb = pipeline.create(dai.node.ColorCamera)\n",
    "monoLeft = pipeline.create(dai.node.MonoCamera)\n",
    "monoRight = pipeline.create(dai.node.MonoCamera)\n",
    "ve1 = pipeline.create(dai.node.VideoEncoder)\n",
    "ve2 = pipeline.create(dai.node.VideoEncoder)\n",
    "ve3 = pipeline.create(dai.node.VideoEncoder)\n",
    "\n",
    "ve1Out = pipeline.create(dai.node.XLinkOut)\n",
    "ve2Out = pipeline.create(dai.node.XLinkOut)\n",
    "ve3Out = pipeline.create(dai.node.XLinkOut)\n",
    "\n",
    "ve1Out.setStreamName('ve1Out')\n",
    "ve2Out.setStreamName('ve2Out')\n",
    "ve3Out.setStreamName('ve3Out')\n",
    "\n",
    "# Properties\n",
    "camRgb.setBoardSocket(dai.CameraBoardSocket.RGB)\n",
    "monoLeft.setBoardSocket(dai.CameraBoardSocket.LEFT)\n",
    "monoRight.setBoardSocket(dai.CameraBoardSocket.RIGHT)\n",
    "# Create encoders, one for each camera, consuming the frames and encoding them using H.264 / H.265 encoding\n",
    "ve1.setDefaultProfilePreset(30, dai.VideoEncoderProperties.Profile.H264_HIGH)\n",
    "ve2.setDefaultProfilePreset(30, dai.VideoEncoderProperties.Profile.H264_HIGH)\n",
    "ve3.setDefaultProfilePreset(30, dai.VideoEncoderProperties.Profile.H264_HIGH)\n",
    "\n",
    "# Linking\n",
    "monoLeft.out.link(ve1.input)\n",
    "camRgb.video.link(ve2.input)\n",
    "monoRight.out.link(ve3.input)\n",
    "ve1.bitstream.link(ve1Out.input)\n",
    "ve2.bitstream.link(ve2Out.input)\n",
    "ve3.bitstream.link(ve3Out.input)\n",
    "\n",
    "# Connect to device and start pipeline\n",
    "with dai.Device(pipeline) as dev:\n",
    "\n",
    "    # Output queues will be used to get the encoded data from the outputs defined above\n",
    "    outQ1 = dev.getOutputQueue(name='ve1Out', maxSize=30, blocking=True)\n",
    "    outQ2 = dev.getOutputQueue(name='ve2Out', maxSize=30, blocking=True)\n",
    "    outQ3 = dev.getOutputQueue(name='ve3Out', maxSize=30, blocking=True)\n",
    "    month,day,year=time.localtime().tm_mon,time.localtime().tm_mday,time.localtime().tm_year\n",
    "    hour,minutes,seconds=time.localtime().tm_hour,time.localtime().tm_min,time.localtime().tm_sec\n",
    "    dir_name=str(month)+'_'+str(day)+'_'+str(year)+'_'+str(hour)+str(minutes)+str(seconds)\n",
    "    os.mkdir(FDIR+'/'+dir_name)\n",
    "    os.mkdir(FDIR+'/'+dir_name+'/videos/')\n",
    "    os.mkdir(FDIR+'/'+dir_name+'/frames/')\n",
    "    name=FDIR+'/'+dir_name+'/videos/'+dir_name\n",
    "    # The .h264 / .h265 files are raw stream files (not playable yet)\n",
    "    f_mono1=name+'_mono1.h264'\n",
    "    f_mono2=name+'_mono2.h264'\n",
    "    f_color=name+'_color.h264'\n",
    "    with open(f_mono1, 'wb') as fileMono1H264, open(f_color, 'wb') as fileColorH265, open(f_mono2, 'wb') as fileMono2H264:\n",
    "        print(\"Press Ctrl+C to stop encoding...\")\n",
    "        while True:\n",
    "            try:\n",
    "                # Empty each queue\n",
    "                while outQ1.has():\n",
    "                    outQ1.get().getData().tofile(fileMono1H264)\n",
    "\n",
    "                while outQ2.has():\n",
    "                    outQ2.get().getData().tofile(fileColorH265)\n",
    "\n",
    "                while outQ3.has():\n",
    "                    outQ3.get().getData().tofile(fileMono2H264)\n",
    "            except KeyboardInterrupt:\n",
    "                # Keyboard interrupt (Ctrl + C) detected\n",
    "                break\n",
    "    cmd = \"ffmpeg -framerate 30 -i {} -c copy {}\"\n",
    "    \n",
    "    os.system(cmd.format(f_mono1,name+'_mono1.mp4'))\n",
    "    os.system(cmd.format(f_mono2, name+'_mono2.mp4'))\n",
    "    os.system(cmd.format(f_color, name+\"_color.mp4\"))\n",
    "    time.sleep(5)\n",
    "#     if(mono1_mp4 in list_dir and mono2_mp4 in list_dir and color_mp4 in list_dir)\n",
    "#     while True:\n",
    "#         list_dir=os.list_dir(FDIR+'/'+dir_name)\n",
    "#         mono1_mp4=name+'_mono1.mp4'\n",
    "#         mono2_mp4=name+'_mono2.mp4'\n",
    "#         color_mp4=name+'-color.mp4'\n",
    "        \n",
    "    os.remove(f_mono1)\n",
    "    os.remove(f_mono2)\n",
    "    os.remove(f_color)"
   ]
  },
  {
   "cell_type": "code",
   "execution_count": 1,
   "id": "d3dc018a",
   "metadata": {},
   "outputs": [],
   "source": [
    "import json"
   ]
  },
  {
   "cell_type": "code",
   "execution_count": 2,
   "id": "ae2a6d32",
   "metadata": {},
   "outputs": [],
   "source": [
    "json.load"
   ]
  },
  {
   "cell_type": "code",
   "execution_count": 13,
   "id": "dcbfe446",
   "metadata": {},
   "outputs": [],
   "source": [
    "with open('config.json','rb') as file:\n",
    "    x=json.load(file)"
   ]
  },
  {
   "cell_type": "code",
   "execution_count": 14,
   "id": "164f759a",
   "metadata": {},
   "outputs": [
    {
     "data": {
      "text/plain": [
       "{'record': {'data_path': './data',\n",
       "  'video_encoder_prop': 'H264_HIGH',\n",
       "  'frame_rate': 30,\n",
       "  'color_cam': True,\n",
       "  'mono1': True,\n",
       "  'mono2': True},\n",
       " 'frame_extraction': {}}"
      ]
     },
     "execution_count": 14,
     "metadata": {},
     "output_type": "execute_result"
    }
   ],
   "source": [
    "x"
   ]
  },
  {
   "cell_type": "code",
   "execution_count": 16,
   "id": "c9633c99",
   "metadata": {},
   "outputs": [
    {
     "data": {
      "text/plain": [
       "{'data_path': './data',\n",
       " 'video_encoder_prop': 'H264_HIGH',\n",
       " 'frame_rate': 30,\n",
       " 'color_cam': True,\n",
       " 'mono1': True,\n",
       " 'mono2': True}"
      ]
     },
     "execution_count": 16,
     "metadata": {},
     "output_type": "execute_result"
    }
   ],
   "source": [
    "x['record']"
   ]
  },
  {
   "cell_type": "code",
   "execution_count": 10,
   "id": "e6be5a26",
   "metadata": {},
   "outputs": [],
   "source": [
    "ve1.setDefaultProfilePreset?"
   ]
  },
  {
   "cell_type": "code",
   "execution_count": 12,
   "id": "15c90860",
   "metadata": {},
   "outputs": [],
   "source": [
    "dev.getOutputQueue?"
   ]
  },
  {
   "cell_type": "code",
   "execution_count": null,
   "id": "3e4867da",
   "metadata": {},
   "outputs": [],
   "source": [
    "dai.Device(pipeline).getOutputQueue"
   ]
  },
  {
   "cell_type": "code",
   "execution_count": 4,
   "id": "57da41e6",
   "metadata": {},
   "outputs": [
    {
     "data": {
      "text/plain": [
       "depthai.Device"
      ]
     },
     "execution_count": 4,
     "metadata": {},
     "output_type": "execute_result"
    }
   ],
   "source": [
    "dai.Device"
   ]
  },
  {
   "cell_type": "code",
   "execution_count": 10,
   "id": "d9dedd21",
   "metadata": {},
   "outputs": [
    {
     "name": "stdout",
     "output_type": "stream",
     "text": [
      "14442C10913365D300 XLinkDeviceState.X_LINK_UNBOOTED\n",
      "14442C10810665D300 XLinkDeviceState.X_LINK_UNBOOTED\n"
     ]
    }
   ],
   "source": [
    "# 14442C10913365D300 XLinkDeviceState.X_LINK_UNBOOTED Gehan\n",
    "# 14442C10810665D300 XLinkDeviceState.X_LINK_UNBOOTED XAvi\n",
    "\n",
    "\n",
    "for device in dai.Device.getAllAvailableDevices():\n",
    "    print(f\"{device.getMxId()} {device.state}\")"
   ]
  },
  {
   "cell_type": "code",
   "execution_count": 11,
   "id": "5718b08c",
   "metadata": {},
   "outputs": [
    {
     "data": {
      "text/plain": [
       "<depthai.Pipeline at 0x2c5ad74e5b0>"
      ]
     },
     "execution_count": 11,
     "metadata": {},
     "output_type": "execute_result"
    }
   ],
   "source": [
    "pipeline"
   ]
  },
  {
   "cell_type": "code",
   "execution_count": 16,
   "id": "2bf89f2d",
   "metadata": {},
   "outputs": [
    {
     "data": {
      "text/plain": [
       "[<depthai.DeviceInfo at 0x2c5ad6aa170>, <depthai.DeviceInfo at 0x2c5ad72b6b0>]"
      ]
     },
     "execution_count": 16,
     "metadata": {},
     "output_type": "execute_result"
    }
   ],
   "source": [
    "dai.Device.getAllAvailableDevices()"
   ]
  },
  {
   "cell_type": "code",
   "execution_count": 14,
   "id": "19b382c5",
   "metadata": {},
   "outputs": [
    {
     "ename": "RuntimeError",
     "evalue": "Failed to find device after booting, error message: X_LINK_DEVICE_NOT_FOUND",
     "output_type": "error",
     "traceback": [
      "\u001b[1;31m---------------------------------------------------------------------------\u001b[0m",
      "\u001b[1;31mRuntimeError\u001b[0m                              Traceback (most recent call last)",
      "\u001b[1;32m~\\AppData\\Local\\Temp/ipykernel_17776/2275293776.py\u001b[0m in \u001b[0;36m<module>\u001b[1;34m\u001b[0m\n\u001b[0;32m      1\u001b[0m \u001b[1;32mwith\u001b[0m \u001b[0mdai\u001b[0m\u001b[1;33m.\u001b[0m\u001b[0mDevice\u001b[0m\u001b[1;33m(\u001b[0m\u001b[0mpipeline\u001b[0m\u001b[1;33m)\u001b[0m \u001b[1;32mas\u001b[0m \u001b[0mdev\u001b[0m\u001b[1;33m:\u001b[0m\u001b[1;33m\u001b[0m\u001b[1;33m\u001b[0m\u001b[0m\n\u001b[1;32m----> 2\u001b[1;33m     \u001b[0mprint\u001b[0m\u001b[1;33m(\u001b[0m\u001b[0mdai\u001b[0m\u001b[1;33m.\u001b[0m\u001b[0mDevice\u001b[0m\u001b[1;33m(\u001b[0m\u001b[0mpipeline\u001b[0m\u001b[1;33m)\u001b[0m\u001b[1;33m)\u001b[0m\u001b[1;33m\u001b[0m\u001b[1;33m\u001b[0m\u001b[0m\n\u001b[0m",
      "\u001b[1;31mRuntimeError\u001b[0m: Failed to find device after booting, error message: X_LINK_DEVICE_NOT_FOUND"
     ]
    }
   ],
   "source": [
    "with dai.Device(pipeline) as dev:\n",
    "    print()"
   ]
  },
  {
   "cell_type": "code",
   "execution_count": 15,
   "id": "743716f9",
   "metadata": {},
   "outputs": [
    {
     "ename": "RuntimeError",
     "evalue": "Failed to find device after booting, error message: X_LINK_DEVICE_NOT_FOUND",
     "output_type": "error",
     "traceback": [
      "\u001b[1;31m---------------------------------------------------------------------------\u001b[0m",
      "\u001b[1;31mRuntimeError\u001b[0m                              Traceback (most recent call last)",
      "\u001b[1;32m~\\AppData\\Local\\Temp/ipykernel_17776/2026942084.py\u001b[0m in \u001b[0;36m<module>\u001b[1;34m\u001b[0m\n\u001b[1;32m----> 1\u001b[1;33m \u001b[0mdai\u001b[0m\u001b[1;33m.\u001b[0m\u001b[0mDevice\u001b[0m\u001b[1;33m(\u001b[0m\u001b[1;33m)\u001b[0m\u001b[1;33m\u001b[0m\u001b[1;33m\u001b[0m\u001b[0m\n\u001b[0m",
      "\u001b[1;31mRuntimeError\u001b[0m: Failed to find device after booting, error message: X_LINK_DEVICE_NOT_FOUND"
     ]
    }
   ],
   "source": [
    "dai.Device()"
   ]
  },
  {
   "cell_type": "code",
   "execution_count": 21,
   "id": "1af1d797",
   "metadata": {},
   "outputs": [
    {
     "ename": "TypeError",
     "evalue": "'tuple' object is not callable",
     "output_type": "error",
     "traceback": [
      "\u001b[1;31m---------------------------------------------------------------------------\u001b[0m",
      "\u001b[1;31mTypeError\u001b[0m                                 Traceback (most recent call last)",
      "\u001b[1;32m~\\AppData\\Local\\Temp/ipykernel_17776/820420995.py\u001b[0m in \u001b[0;36m<module>\u001b[1;34m\u001b[0m\n\u001b[1;32m----> 1\u001b[1;33m \u001b[1;32mwith\u001b[0m \u001b[0mdai\u001b[0m\u001b[1;33m.\u001b[0m\u001b[0mDevice\u001b[0m\u001b[1;33m.\u001b[0m\u001b[0mgetDeviceByMxId\u001b[0m\u001b[1;33m(\u001b[0m\u001b[1;34m\"14442C10913365D300\"\u001b[0m\u001b[1;33m)\u001b[0m\u001b[1;33m(\u001b[0m\u001b[0mpipeline\u001b[0m\u001b[1;33m)\u001b[0m \u001b[1;32mas\u001b[0m \u001b[0mdev\u001b[0m\u001b[1;33m:\u001b[0m\u001b[1;33m\u001b[0m\u001b[1;33m\u001b[0m\u001b[0m\n\u001b[0m\u001b[0;32m      2\u001b[0m     \u001b[0mprint\u001b[0m\u001b[1;33m(\u001b[0m\u001b[0mdev\u001b[0m\u001b[1;33m)\u001b[0m\u001b[1;33m\u001b[0m\u001b[1;33m\u001b[0m\u001b[0m\n",
      "\u001b[1;31mTypeError\u001b[0m: 'tuple' object is not callable"
     ]
    }
   ],
   "source": [
    "with dai.Device.getDeviceByMxId(\"14442C10913365D300\")(pipeline) as dev:\n",
    "    print(dev)"
   ]
  },
  {
   "cell_type": "code",
   "execution_count": null,
   "id": "b96308b2",
   "metadata": {},
   "outputs": [],
   "source": []
  }
 ],
 "metadata": {
  "kernelspec": {
   "display_name": "Python 3 (ipykernel)",
   "language": "python",
   "name": "python3"
  },
  "language_info": {
   "codemirror_mode": {
    "name": "ipython",
    "version": 3
   },
   "file_extension": ".py",
   "mimetype": "text/x-python",
   "name": "python",
   "nbconvert_exporter": "python",
   "pygments_lexer": "ipython3",
   "version": "3.9.7"
  }
 },
 "nbformat": 4,
 "nbformat_minor": 5
}
